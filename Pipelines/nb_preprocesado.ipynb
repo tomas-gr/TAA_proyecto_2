{
 "cells": [
  {
   "cell_type": "code",
   "execution_count": null,
   "id": "61940950",
   "metadata": {},
   "outputs": [],
   "source": [
    "# ---------- Pipeline para transformar los audios en los ceptogramas log-mel ------------- #\n",
    "\n"
   ]
  }
 ],
 "metadata": {
  "kernelspec": {
   "display_name": "taa",
   "language": "python",
   "name": "python3"
  },
  "language_info": {
   "name": "python",
   "version": "3.13.2"
  }
 },
 "nbformat": 4,
 "nbformat_minor": 5
}
