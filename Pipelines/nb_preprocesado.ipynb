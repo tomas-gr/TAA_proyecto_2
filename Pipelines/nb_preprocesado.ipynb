{
 "cells": [
  {
   "cell_type": "code",
   "execution_count": 4,
   "id": "61940950",
   "metadata": {},
   "outputs": [],
   "source": [
    "import pandas as pd\n",
    "\n",
    "# ---------- Pipeline para transformar los audios en los ceptogramas log-mel ------------- #\n",
    "\n",
    "\n",
    "# ----------- Cargar datasets --------------#\n",
    "\n",
    "train_noisy_df = pd.read_csv('../taa-2025-freesound-audio-tagging/train_noisy.csv')\n",
    "train_curated_df = pd.read_csv('../taa-2025-freesound-audio-tagging/train_curated.csv')\n",
    "vocabulary_df = pd.read_csv('../taa-2025-freesound-audio-tagging/vocabulary.csv')\n"
   ]
  },
  {
   "cell_type": "code",
   "execution_count": 5,
   "id": "968383a8",
   "metadata": {},
   "outputs": [
    {
     "name": "stdout",
     "output_type": "stream",
     "text": [
      "<class 'pandas.core.frame.DataFrame'>\n",
      "RangeIndex: 4970 entries, 0 to 4969\n",
      "Data columns (total 2 columns):\n",
      " #   Column  Non-Null Count  Dtype \n",
      "---  ------  --------------  ----- \n",
      " 0   fname   4970 non-null   object\n",
      " 1   labels  4970 non-null   object\n",
      "dtypes: object(2)\n",
      "memory usage: 77.8+ KB\n"
     ]
    }
   ],
   "source": [
    "train_curated_df.describe()\n",
    "train_curated_df.info()"
   ]
  },
  {
   "cell_type": "code",
   "execution_count": null,
   "id": "566ac201",
   "metadata": {},
   "outputs": [],
   "source": [
    "'../tt/train/'+train_df[algo]"
   ]
  },
  {
   "cell_type": "code",
   "execution_count": null,
   "id": "da6306d0",
   "metadata": {},
   "outputs": [],
   "source": [
    "import tensorflow as tf\n",
    "import numpy as np\n",
    "import pandas as pd\n",
    "import pathlib"
   ]
  },
  {
   "cell_type": "code",
   "execution_count": null,
   "id": "3372ea24",
   "metadata": {},
   "outputs": [],
   "source": [
    "# Load CSV with filenames and labels\n",
    "train_curated_df = pd.read_csv('../taa-2025-freesound-audio-tagging/train_curated.csv')\n",
    "\n",
    "# Build lists of file paths and labels\n",
    "file_paths = train_curated_df['fname'].apply(lambda x: str(pathlib.Path('../taa-2025-freesound-audio-tagging/train_curated') / x)).tolist()\n",
    "labels = train_curated_df['labels'].tolist()  # If multiple labels, you may need to split and process\n",
    "\n",
    "# If labels are single class per file, encode as integers:\n",
    "unique_labels = sorted(set(l for label in labels for l in label.split(',')))\n",
    "label_to_index = {label: idx for idx, label in enumerate(unique_labels)}\n",
    "labels_idx = [label_to_index[label] if ',' not in label else label_to_index[label.split(',')[0]] for label in labels]\n",
    "\n",
    "# Create tf.data.Dataset\n",
    "file_paths_ds = tf.data.Dataset.from_tensor_slices(file_paths)\n",
    "labels_ds = tf.data.Dataset.from_tensor_slices(labels_idx)\n",
    "dataset = tf.data.Dataset.zip((file_paths_ds, labels_ds))\n",
    "\n",
    "def load_wav(file_path, label):\n",
    "    audio = tf.io.read_file(file_path)\n",
    "    audio, _ = tf.audio.decode_wav(audio, desired_channels=1, desired_samples=16000)\n",
    "    audio = tf.squeeze(audio, axis=-1)\n",
    "    return audio, label\n",
    "\n",
    "dataset = dataset.map(load_wav, num_parallel_calls=tf.data.AUTOTUNE)\n",
    "\n",
    "dataset = dataset.batch(64).prefetch(tf.data.AUTOTUNE)\n",
    "\n",
    "print('Example batch:')\n",
    "for audio, label in dataset.take(1):\n",
    "    print(audio.shape, label.shape)\n",
    "    break"
   ]
  }
 ],
 "metadata": {
  "kernelspec": {
   "display_name": "taa_python_12",
   "language": "python",
   "name": "python3"
  },
  "language_info": {
   "codemirror_mode": {
    "name": "ipython",
    "version": 3
   },
   "file_extension": ".py",
   "mimetype": "text/x-python",
   "name": "python",
   "nbconvert_exporter": "python",
   "pygments_lexer": "ipython3",
   "version": "3.12.11"
  }
 },
 "nbformat": 4,
 "nbformat_minor": 5
}
